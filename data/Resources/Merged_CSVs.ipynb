{
 "cells": [
  {
   "cell_type": "code",
   "execution_count": 9,
   "metadata": {},
   "outputs": [],
   "source": [
    "import pandas, sys\n",
    "import pandas as pd"
   ]
  },
  {
   "cell_type": "markdown",
   "metadata": {},
   "source": [
    "# Merging all states across years\n",
    "Atlantic\n",
    "Bergen\n",
    "Burlington\n",
    "Camden\n",
    "Cape May\n",
    "Cumberland\n",
    "Essex\n",
    "Gloucester\n",
    "Hudson\n",
    "Hunterdon\n",
    "Mercer\n",
    "Middlesex\n",
    "Monmouth\n",
    "Morris\n",
    "Ocean\n",
    "Passaic\n",
    "Salem\n",
    "Somerset\n",
    "Sussex\n",
    "Union\n",
    "Warren\n",
    "NJ Statewide"
   ]
  },
  {
   "cell_type": "code",
   "execution_count": 33,
   "metadata": {},
   "outputs": [],
   "source": [
    "#\n",
    "with open('New Jersey (Statewide) Monthly Average Temperature Across Years.csv', 'r') as f1:\n",
    "    original = f1.read()\n",
    "\n",
    "with open('All_Merged.csv', 'a') as f2:\n",
    "    f2.write('\\n')\n",
    "    f2.write(original)"
   ]
  },
  {
   "cell_type": "markdown",
   "metadata": {},
   "source": [
    "# Merging averages across months\n",
    "Atlantic\n",
    "Bergen\n",
    "Burlington\n",
    "Camden\n",
    "Cape May\n",
    "Cumberland\n",
    "Essex\n",
    "Gloucester\n",
    "Hudson\n",
    "Hunterdon\n",
    "Mercer\n",
    "Middlesex\n",
    "Monmouth\n",
    "Morris\n",
    "Ocean\n",
    "Passaic\n",
    "Salem\n",
    "Somerset\n",
    "Sussex\n",
    "Union\n",
    "Warren\n",
    "NJ Statewide"
   ]
  },
  {
   "cell_type": "code",
   "execution_count": 56,
   "metadata": {},
   "outputs": [],
   "source": [
    "# with open('New Jersey (Statewide) Mean Monthly Temperature.csv', 'r') as f1:\n",
    "#     original = f1.read()\n",
    "\n",
    "# with open('All_Merged_Monthly_Averages.csv', 'a') as f2:\n",
    "#     f2.write('\\n')\n",
    "#     f2.write(original)"
   ]
  },
  {
   "cell_type": "code",
   "execution_count": null,
   "metadata": {},
   "outputs": [],
   "source": []
  }
 ],
 "metadata": {
  "kernelspec": {
   "display_name": "Python 3",
   "language": "python",
   "name": "python3"
  },
  "language_info": {
   "codemirror_mode": {
    "name": "ipython",
    "version": 3
   },
   "file_extension": ".py",
   "mimetype": "text/x-python",
   "name": "python",
   "nbconvert_exporter": "python",
   "pygments_lexer": "ipython3",
   "version": "3.6.10"
  }
 },
 "nbformat": 4,
 "nbformat_minor": 4
}
