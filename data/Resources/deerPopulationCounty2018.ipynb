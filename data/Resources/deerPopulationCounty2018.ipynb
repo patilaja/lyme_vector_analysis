{
 "cells": [
  {
   "cell_type": "markdown",
   "metadata": {},
   "source": [
    "### Deer Population by County - Calculate 2018 Deer Count values"
   ]
  },
  {
   "cell_type": "code",
   "execution_count": 1,
   "metadata": {},
   "outputs": [],
   "source": [
    "#Import dependencies\n",
    "import os\n",
    "import pandas as pd\n",
    "from statistics import mean\n",
    "import numpy as np\n",
    "import matplotlib.pyplot as plt\n",
    "from matplotlib import style"
   ]
  },
  {
   "cell_type": "code",
   "execution_count": 2,
   "metadata": {},
   "outputs": [],
   "source": [
    "#File paths\n",
    "deepr_county_pop =  os.path.join(\"\",\"Resources\",\"summaryData\",\"nj-deer-count.csv\")\n",
    "deepr_pop =  os.path.join(\"\",\"Resources\",\"summaryData\",\"NJFB-deer-count.csv\")\n",
    "deer_population_2018 = os.path.join(\"\",\"Resources\",\"summaryData\",\"county_deer_population.csv\")"
   ]
  },
  {
   "cell_type": "code",
   "execution_count": 3,
   "metadata": {},
   "outputs": [],
   "source": [
    "#Read raw data from csv\n",
    "deer_pop_df = pd.read_csv(deepr_county_pop)\n",
    "deer_county_df=pd.read_csv(deepr_pop)"
   ]
  },
  {
   "cell_type": "code",
   "execution_count": 4,
   "metadata": {},
   "outputs": [
    {
     "data": {
      "text/html": [
       "<div>\n",
       "<style scoped>\n",
       "    .dataframe tbody tr th:only-of-type {\n",
       "        vertical-align: middle;\n",
       "    }\n",
       "\n",
       "    .dataframe tbody tr th {\n",
       "        vertical-align: top;\n",
       "    }\n",
       "\n",
       "    .dataframe thead th {\n",
       "        text-align: right;\n",
       "    }\n",
       "</style>\n",
       "<table border=\"1\" class=\"dataframe\">\n",
       "  <thead>\n",
       "    <tr style=\"text-align: right;\">\n",
       "      <th></th>\n",
       "      <th>County</th>\n",
       "      <th>Acres</th>\n",
       "      <th>Deer Max</th>\n",
       "      <th>Max SM</th>\n",
       "      <th>Deer min</th>\n",
       "      <th>Min SM</th>\n",
       "      <th>AvgCount</th>\n",
       "    </tr>\n",
       "  </thead>\n",
       "  <tbody>\n",
       "    <tr>\n",
       "      <th>0</th>\n",
       "      <td>Atlantic County</td>\n",
       "      <td>557</td>\n",
       "      <td>169</td>\n",
       "      <td>194</td>\n",
       "      <td>161</td>\n",
       "      <td>185</td>\n",
       "      <td>189.5</td>\n",
       "    </tr>\n",
       "    <tr>\n",
       "      <th>1</th>\n",
       "      <td>Cumberland County</td>\n",
       "      <td>1520</td>\n",
       "      <td>255</td>\n",
       "      <td>107</td>\n",
       "      <td>245</td>\n",
       "      <td>103</td>\n",
       "      <td>105.0</td>\n",
       "    </tr>\n",
       "    <tr>\n",
       "      <th>2</th>\n",
       "      <td>Hunterdon/Mercer County</td>\n",
       "      <td>1659</td>\n",
       "      <td>231</td>\n",
       "      <td>89</td>\n",
       "      <td>230</td>\n",
       "      <td>89</td>\n",
       "      <td>89.0</td>\n",
       "    </tr>\n",
       "    <tr>\n",
       "      <th>3</th>\n",
       "      <td>Monmouth County</td>\n",
       "      <td>3390</td>\n",
       "      <td>350</td>\n",
       "      <td>66</td>\n",
       "      <td>344</td>\n",
       "      <td>65</td>\n",
       "      <td>65.5</td>\n",
       "    </tr>\n",
       "    <tr>\n",
       "      <th>4</th>\n",
       "      <td>Passaic County</td>\n",
       "      <td>940</td>\n",
       "      <td>81</td>\n",
       "      <td>55</td>\n",
       "      <td>65</td>\n",
       "      <td>44</td>\n",
       "      <td>49.5</td>\n",
       "    </tr>\n",
       "  </tbody>\n",
       "</table>\n",
       "</div>"
      ],
      "text/plain": [
       "                    County  Acres  Deer Max   Max SM  Deer min  Min SM  \\\n",
       "0          Atlantic County    557        169     194       161     185   \n",
       "1        Cumberland County   1520        255     107       245     103   \n",
       "2  Hunterdon/Mercer County   1659        231      89       230      89   \n",
       "3          Monmouth County   3390        350      66       344      65   \n",
       "4           Passaic County    940         81      55        65      44   \n",
       "\n",
       "   AvgCount  \n",
       "0     189.5  \n",
       "1     105.0  \n",
       "2      89.0  \n",
       "3      65.5  \n",
       "4      49.5  "
      ]
     },
     "execution_count": 4,
     "metadata": {},
     "output_type": "execute_result"
    }
   ],
   "source": [
    "#Display data\n",
    "deer_county_df.head()"
   ]
  },
  {
   "cell_type": "code",
   "execution_count": 5,
   "metadata": {},
   "outputs": [
    {
     "data": {
      "text/html": [
       "<div>\n",
       "<style scoped>\n",
       "    .dataframe tbody tr th:only-of-type {\n",
       "        vertical-align: middle;\n",
       "    }\n",
       "\n",
       "    .dataframe tbody tr th {\n",
       "        vertical-align: top;\n",
       "    }\n",
       "\n",
       "    .dataframe thead th {\n",
       "        text-align: right;\n",
       "    }\n",
       "</style>\n",
       "<table border=\"1\" class=\"dataframe\">\n",
       "  <thead>\n",
       "    <tr style=\"text-align: right;\">\n",
       "      <th></th>\n",
       "      <th>Year</th>\n",
       "      <th>Deer SM</th>\n",
       "    </tr>\n",
       "  </thead>\n",
       "  <tbody>\n",
       "    <tr>\n",
       "      <th>0</th>\n",
       "      <td>1972</td>\n",
       "      <td>10</td>\n",
       "    </tr>\n",
       "    <tr>\n",
       "      <th>1</th>\n",
       "      <td>1987</td>\n",
       "      <td>20</td>\n",
       "    </tr>\n",
       "    <tr>\n",
       "      <th>2</th>\n",
       "      <td>1998</td>\n",
       "      <td>30</td>\n",
       "    </tr>\n",
       "    <tr>\n",
       "      <th>3</th>\n",
       "      <td>2019</td>\n",
       "      <td>107</td>\n",
       "    </tr>\n",
       "  </tbody>\n",
       "</table>\n",
       "</div>"
      ],
      "text/plain": [
       "   Year  Deer SM\n",
       "0  1972       10\n",
       "1  1987       20\n",
       "2  1998       30\n",
       "3  2019      107"
      ]
     },
     "execution_count": 5,
     "metadata": {},
     "output_type": "execute_result"
    }
   ],
   "source": [
    "#Display data\n",
    "deer_pop_df.head()"
   ]
  },
  {
   "cell_type": "markdown",
   "metadata": {},
   "source": [
    "### Predict deer count values for each county for yeat 2018"
   ]
  },
  {
   "cell_type": "markdown",
   "metadata": {},
   "source": [
    "### Atlantic County"
   ]
  },
  {
   "cell_type": "code",
   "execution_count": 6,
   "metadata": {},
   "outputs": [],
   "source": [
    "#Copy df\n",
    "al_deer_pop_df=deer_pop_df.copy()"
   ]
  },
  {
   "cell_type": "code",
   "execution_count": 7,
   "metadata": {},
   "outputs": [],
   "source": [
    "#Replace default value to average sq mile value for 2019\n",
    "al_deer_pop_df=al_deer_pop_df.replace(to_replace = 107, value =190) "
   ]
  },
  {
   "cell_type": "code",
   "execution_count": 8,
   "metadata": {},
   "outputs": [],
   "source": [
    "#Get x and y values for regression line\n",
    "al_xs =al_deer_pop_df[\"Year\"]\n",
    "al_ys = al_deer_pop_df[\"Deer SM\"]"
   ]
  },
  {
   "cell_type": "code",
   "execution_count": 9,
   "metadata": {},
   "outputs": [],
   "source": [
    "#Function to get slope and intercept value of a regression line\n",
    "def best_fit_slope_and_intercept(xs,ys):\n",
    "    m = (((mean(xs)*mean(ys)) - mean(xs*ys)) /\n",
    "         ((mean(xs)*mean(xs)) - mean(xs*xs)))\n",
    "    \n",
    "    b = mean(ys) - m*mean(xs)\n",
    "    \n",
    "    return m, b"
   ]
  },
  {
   "cell_type": "code",
   "execution_count": 10,
   "metadata": {},
   "outputs": [
    {
     "data": {
      "text/plain": [
       "[-22.014480408858617, 35.60902896081734, 77.8662691652471, 158.53918228279326]"
      ]
     },
     "execution_count": 10,
     "metadata": {},
     "output_type": "execute_result"
    }
   ],
   "source": [
    "#Get regression line\n",
    "m, b = best_fit_slope_and_intercept(al_xs,al_ys)\n",
    "regression_line = [(m*x)+b for x in al_xs]\n",
    "regression_line"
   ]
  },
  {
   "cell_type": "code",
   "execution_count": 11,
   "metadata": {},
   "outputs": [
    {
     "data": {
      "image/png": "[encoded data removed]",
      "text/plain": [
       "<Figure size 432x288 with 1 Axes>"
      ]
     },
     "metadata": {},
     "output_type": "display_data"
    }
   ],
   "source": [
    "#Plot regression line\n",
    "style.use('ggplot')\n",
    "plt.scatter(al_xs,al_ys,color='#003F72')\n",
    "plt.plot(al_xs, regression_line)\n",
    "plt.show()"
   ]
  },
  {
   "cell_type": "code",
   "execution_count": 12,
   "metadata": {},
   "outputs": [
    {
     "name": "stdout",
     "output_type": "stream",
     "text": [
      "154.69761499148171\n"
     ]
    }
   ],
   "source": [
    "#Get the predicted deer count for 2018\n",
    "al_predict_x = 2018\n",
    "al_predict_y = (m*al_predict_x)+b\n",
    "al_pop = al_predict_y\n",
    "print(al_pop)"
   ]
  },
  {
   "cell_type": "code",
   "execution_count": null,
   "metadata": {},
   "outputs": [],
   "source": []
  },
  {
   "cell_type": "markdown",
   "metadata": {},
   "source": [
    "### Cumberland County"
   ]
  },
  {
   "cell_type": "code",
   "execution_count": 13,
   "metadata": {},
   "outputs": [],
   "source": [
    "#Copy df\n",
    "cu_deer_pop_df=deer_pop_df.copy()"
   ]
  },
  {
   "cell_type": "code",
   "execution_count": 14,
   "metadata": {},
   "outputs": [],
   "source": [
    "#Replace default value to average sq mile value for 2019\n",
    "cu_deer_pop_df=cu_deer_pop_df.replace(to_replace = 107, value =105) "
   ]
  },
  {
   "cell_type": "code",
   "execution_count": 15,
   "metadata": {},
   "outputs": [
    {
     "data": {
      "text/html": [
       "<div>\n",
       "<style scoped>\n",
       "    .dataframe tbody tr th:only-of-type {\n",
       "        vertical-align: middle;\n",
       "    }\n",
       "\n",
       "    .dataframe tbody tr th {\n",
       "        vertical-align: top;\n",
       "    }\n",
       "\n",
       "    .dataframe thead th {\n",
       "        text-align: right;\n",
       "    }\n",
       "</style>\n",
       "<table border=\"1\" class=\"dataframe\">\n",
       "  <thead>\n",
       "    <tr style=\"text-align: right;\">\n",
       "      <th></th>\n",
       "      <th>Year</th>\n",
       "      <th>Deer SM</th>\n",
       "    </tr>\n",
       "  </thead>\n",
       "  <tbody>\n",
       "    <tr>\n",
       "      <th>0</th>\n",
       "      <td>1972</td>\n",
       "      <td>10</td>\n",
       "    </tr>\n",
       "    <tr>\n",
       "      <th>1</th>\n",
       "      <td>1987</td>\n",
       "      <td>20</td>\n",
       "    </tr>\n",
       "    <tr>\n",
       "      <th>2</th>\n",
       "      <td>1998</td>\n",
       "      <td>30</td>\n",
       "    </tr>\n",
       "    <tr>\n",
       "      <th>3</th>\n",
       "      <td>2019</td>\n",
       "      <td>105</td>\n",
       "    </tr>\n",
       "  </tbody>\n",
       "</table>\n",
       "</div>"
      ],
      "text/plain": [
       "   Year  Deer SM\n",
       "0  1972       10\n",
       "1  1987       20\n",
       "2  1998       30\n",
       "3  2019      105"
      ]
     },
     "execution_count": 15,
     "metadata": {},
     "output_type": "execute_result"
    }
   ],
   "source": [
    "#Display data\n",
    "cu_deer_pop_df"
   ]
  },
  {
   "cell_type": "code",
   "execution_count": 16,
   "metadata": {},
   "outputs": [],
   "source": [
    "#Get x and y values for regression line\n",
    "cu_xs =cu_deer_pop_df[\"Year\"]\n",
    "cu_ys = cu_deer_pop_df[\"Deer SM\"]"
   ]
  },
  {
   "cell_type": "code",
   "execution_count": 17,
   "metadata": {},
   "outputs": [
    {
     "data": {
      "text/plain": [
       "[-3.4433560477004903, 27.029386712095402, 49.37606473594542, 92.03790459965921]"
      ]
     },
     "execution_count": 17,
     "metadata": {},
     "output_type": "execute_result"
    }
   ],
   "source": [
    "#Get regression line\n",
    "m, b = best_fit_slope_and_intercept(cu_xs,cu_ys)\n",
    "regression_line = [(m*x)+b for x in cu_xs]\n",
    "regression_line"
   ]
  },
  {
   "cell_type": "code",
   "execution_count": 18,
   "metadata": {},
   "outputs": [
    {
     "name": "stdout",
     "output_type": "stream",
     "text": [
      "90.00638841567297\n"
     ]
    }
   ],
   "source": [
    "#Get the predicted deer count for 2018\n",
    "cu_predict_x = 2018\n",
    "cu_predict_y = (m*cu_predict_x)+b\n",
    "cu_pop =cu_predict_y\n",
    "print(cu_pop)"
   ]
  },
  {
   "cell_type": "markdown",
   "metadata": {},
   "source": [
    "### Monmouth County"
   ]
  },
  {
   "cell_type": "code",
   "execution_count": 19,
   "metadata": {},
   "outputs": [],
   "source": [
    "#Copy df\n",
    "mo_deer_pop_df=deer_pop_df.copy()"
   ]
  },
  {
   "cell_type": "code",
   "execution_count": 20,
   "metadata": {},
   "outputs": [],
   "source": [
    "#Replace default value to average sq mile value for 2019\n",
    "mo_deer_pop_df=mo_deer_pop_df.replace(to_replace = 107, value =66)"
   ]
  },
  {
   "cell_type": "code",
   "execution_count": 21,
   "metadata": {},
   "outputs": [
    {
     "data": {
      "text/html": [
       "<div>\n",
       "<style scoped>\n",
       "    .dataframe tbody tr th:only-of-type {\n",
       "        vertical-align: middle;\n",
       "    }\n",
       "\n",
       "    .dataframe tbody tr th {\n",
       "        vertical-align: top;\n",
       "    }\n",
       "\n",
       "    .dataframe thead th {\n",
       "        text-align: right;\n",
       "    }\n",
       "</style>\n",
       "<table border=\"1\" class=\"dataframe\">\n",
       "  <thead>\n",
       "    <tr style=\"text-align: right;\">\n",
       "      <th></th>\n",
       "      <th>Year</th>\n",
       "      <th>Deer SM</th>\n",
       "    </tr>\n",
       "  </thead>\n",
       "  <tbody>\n",
       "    <tr>\n",
       "      <th>0</th>\n",
       "      <td>1972</td>\n",
       "      <td>10</td>\n",
       "    </tr>\n",
       "    <tr>\n",
       "      <th>1</th>\n",
       "      <td>1987</td>\n",
       "      <td>20</td>\n",
       "    </tr>\n",
       "    <tr>\n",
       "      <th>2</th>\n",
       "      <td>1998</td>\n",
       "      <td>30</td>\n",
       "    </tr>\n",
       "    <tr>\n",
       "      <th>3</th>\n",
       "      <td>2019</td>\n",
       "      <td>66</td>\n",
       "    </tr>\n",
       "  </tbody>\n",
       "</table>\n",
       "</div>"
      ],
      "text/plain": [
       "   Year  Deer SM\n",
       "0  1972       10\n",
       "1  1987       20\n",
       "2  1998       30\n",
       "3  2019       66"
      ]
     },
     "execution_count": 21,
     "metadata": {},
     "output_type": "execute_result"
    }
   ],
   "source": [
    "#Display data\n",
    "mo_deer_pop_df"
   ]
  },
  {
   "cell_type": "code",
   "execution_count": 22,
   "metadata": {},
   "outputs": [],
   "source": [
    "#Get x and y values for regression line\n",
    "mo_xs =mo_deer_pop_df[\"Year\"]\n",
    "mo_ys = mo_deer_pop_df[\"Deer SM\"]"
   ]
  },
  {
   "cell_type": "code",
   "execution_count": 23,
   "metadata": {},
   "outputs": [
    {
     "data": {
      "text/plain": [
       "[5.0775127768310995, 23.092844974446052, 36.3040885860305, 61.525553662691436]"
      ]
     },
     "execution_count": 23,
     "metadata": {},
     "output_type": "execute_result"
    }
   ],
   "source": [
    "#Get regression line\n",
    "m, b = best_fit_slope_and_intercept(mo_xs,mo_ys)\n",
    "regression_line = [(m*x)+b for x in mo_xs]\n",
    "regression_line"
   ]
  },
  {
   "cell_type": "code",
   "execution_count": 24,
   "metadata": {},
   "outputs": [
    {
     "name": "stdout",
     "output_type": "stream",
     "text": [
      "90.00638841567297\n"
     ]
    }
   ],
   "source": [
    "#Get the predicted deer count for 2018\n",
    "mo_predict_x = 2018\n",
    "mo_predict_y = (m*mo_predict_x)+b\n",
    "mo_pop=mo_predict_y\n",
    "print(cu_pop)"
   ]
  },
  {
   "cell_type": "markdown",
   "metadata": {},
   "source": [
    "### Passaic County"
   ]
  },
  {
   "cell_type": "code",
   "execution_count": 25,
   "metadata": {},
   "outputs": [],
   "source": [
    "#Copy df\n",
    "pa_deer_pop_df=deer_pop_df.copy()"
   ]
  },
  {
   "cell_type": "code",
   "execution_count": 26,
   "metadata": {},
   "outputs": [],
   "source": [
    "#Replace default value to average sq mile value for 2019\n",
    "pa_deer_pop_df=pa_deer_pop_df.replace(to_replace = 107, value =50)"
   ]
  },
  {
   "cell_type": "code",
   "execution_count": 27,
   "metadata": {},
   "outputs": [
    {
     "data": {
      "text/html": [
       "<div>\n",
       "<style scoped>\n",
       "    .dataframe tbody tr th:only-of-type {\n",
       "        vertical-align: middle;\n",
       "    }\n",
       "\n",
       "    .dataframe tbody tr th {\n",
       "        vertical-align: top;\n",
       "    }\n",
       "\n",
       "    .dataframe thead th {\n",
       "        text-align: right;\n",
       "    }\n",
       "</style>\n",
       "<table border=\"1\" class=\"dataframe\">\n",
       "  <thead>\n",
       "    <tr style=\"text-align: right;\">\n",
       "      <th></th>\n",
       "      <th>Year</th>\n",
       "      <th>Deer SM</th>\n",
       "    </tr>\n",
       "  </thead>\n",
       "  <tbody>\n",
       "    <tr>\n",
       "      <th>0</th>\n",
       "      <td>1972</td>\n",
       "      <td>10</td>\n",
       "    </tr>\n",
       "    <tr>\n",
       "      <th>1</th>\n",
       "      <td>1987</td>\n",
       "      <td>20</td>\n",
       "    </tr>\n",
       "    <tr>\n",
       "      <th>2</th>\n",
       "      <td>1998</td>\n",
       "      <td>30</td>\n",
       "    </tr>\n",
       "    <tr>\n",
       "      <th>3</th>\n",
       "      <td>2019</td>\n",
       "      <td>50</td>\n",
       "    </tr>\n",
       "  </tbody>\n",
       "</table>\n",
       "</div>"
      ],
      "text/plain": [
       "   Year  Deer SM\n",
       "0  1972       10\n",
       "1  1987       20\n",
       "2  1998       30\n",
       "3  2019       50"
      ]
     },
     "execution_count": 27,
     "metadata": {},
     "output_type": "execute_result"
    }
   ],
   "source": [
    "#Display data\n",
    "pa_deer_pop_df"
   ]
  },
  {
   "cell_type": "code",
   "execution_count": 28,
   "metadata": {},
   "outputs": [],
   "source": [
    "#Get x and y values for regression line\n",
    "pa_xs =pa_deer_pop_df[\"Year\"]\n",
    "pa_ys = pa_deer_pop_df[\"Deer SM\"]"
   ]
  },
  {
   "cell_type": "code",
   "execution_count": 29,
   "metadata": {},
   "outputs": [
    {
     "data": {
      "text/plain": [
       "[8.57325383304942, 21.477853492333907, 30.941226575809196, 49.007666098807476]"
      ]
     },
     "execution_count": 29,
     "metadata": {},
     "output_type": "execute_result"
    }
   ],
   "source": [
    "#Get regression line\n",
    "m, b = best_fit_slope_and_intercept(pa_xs,pa_ys)\n",
    "regression_line = [(m*x)+b for x in pa_xs]\n",
    "regression_line"
   ]
  },
  {
   "cell_type": "code",
   "execution_count": 30,
   "metadata": {},
   "outputs": [
    {
     "name": "stdout",
     "output_type": "stream",
     "text": [
      "48.14735945485518\n"
     ]
    }
   ],
   "source": [
    "#Get the predicted deer count for 2018\n",
    "pa_predict_x = 2018\n",
    "pa_predict_y = (m*pa_predict_x)+b\n",
    "pa_pop=pa_predict_y\n",
    "print(pa_pop)"
   ]
  },
  {
   "cell_type": "markdown",
   "metadata": {},
   "source": [
    "### Somerset County"
   ]
  },
  {
   "cell_type": "code",
   "execution_count": 31,
   "metadata": {},
   "outputs": [],
   "source": [
    "#Copy df\n",
    "so_deer_pop_df=deer_pop_df.copy()"
   ]
  },
  {
   "cell_type": "code",
   "execution_count": 32,
   "metadata": {},
   "outputs": [],
   "source": [
    "#Replace default value to average sq mile value for 2019\n",
    "so_deer_pop_df=so_deer_pop_df.replace(to_replace = 107, value =96)"
   ]
  },
  {
   "cell_type": "code",
   "execution_count": 33,
   "metadata": {},
   "outputs": [
    {
     "data": {
      "text/html": [
       "<div>\n",
       "<style scoped>\n",
       "    .dataframe tbody tr th:only-of-type {\n",
       "        vertical-align: middle;\n",
       "    }\n",
       "\n",
       "    .dataframe tbody tr th {\n",
       "        vertical-align: top;\n",
       "    }\n",
       "\n",
       "    .dataframe thead th {\n",
       "        text-align: right;\n",
       "    }\n",
       "</style>\n",
       "<table border=\"1\" class=\"dataframe\">\n",
       "  <thead>\n",
       "    <tr style=\"text-align: right;\">\n",
       "      <th></th>\n",
       "      <th>Year</th>\n",
       "      <th>Deer SM</th>\n",
       "    </tr>\n",
       "  </thead>\n",
       "  <tbody>\n",
       "    <tr>\n",
       "      <th>0</th>\n",
       "      <td>1972</td>\n",
       "      <td>10</td>\n",
       "    </tr>\n",
       "    <tr>\n",
       "      <th>1</th>\n",
       "      <td>1987</td>\n",
       "      <td>20</td>\n",
       "    </tr>\n",
       "    <tr>\n",
       "      <th>2</th>\n",
       "      <td>1998</td>\n",
       "      <td>30</td>\n",
       "    </tr>\n",
       "    <tr>\n",
       "      <th>3</th>\n",
       "      <td>2019</td>\n",
       "      <td>96</td>\n",
       "    </tr>\n",
       "  </tbody>\n",
       "</table>\n",
       "</div>"
      ],
      "text/plain": [
       "   Year  Deer SM\n",
       "0  1972       10\n",
       "1  1987       20\n",
       "2  1998       30\n",
       "3  2019       96"
      ]
     },
     "execution_count": 33,
     "metadata": {},
     "output_type": "execute_result"
    }
   ],
   "source": [
    "#Display data\n",
    "so_deer_pop_df"
   ]
  },
  {
   "cell_type": "code",
   "execution_count": 34,
   "metadata": {},
   "outputs": [],
   "source": [
    "#Get x and y values for regression line\n",
    "so_xs =so_deer_pop_df[\"Year\"]\n",
    "so_ys = so_deer_pop_df[\"Deer SM\"]"
   ]
  },
  {
   "cell_type": "code",
   "execution_count": 35,
   "metadata": {},
   "outputs": [
    {
     "data": {
      "text/plain": [
       "[-1.4770017035775709, 26.12095400340695, 46.35945485519596, 84.99659284497466]"
      ]
     },
     "execution_count": 35,
     "metadata": {},
     "output_type": "execute_result"
    }
   ],
   "source": [
    "#Get regression line\n",
    "m, b = best_fit_slope_and_intercept(so_xs,so_ys)\n",
    "regression_line = [(m*x)+b for x in so_xs]\n",
    "regression_line"
   ]
  },
  {
   "cell_type": "code",
   "execution_count": 36,
   "metadata": {},
   "outputs": [
    {
     "name": "stdout",
     "output_type": "stream",
     "text": [
      "83.15672913117533\n"
     ]
    }
   ],
   "source": [
    "#Get the predicted deer count for 2018\n",
    "so_predict_x = 2018\n",
    "so_predict_y = (m*so_predict_x)+b\n",
    "so_pop=so_predict_y\n",
    "print(so_pop)"
   ]
  },
  {
   "cell_type": "markdown",
   "metadata": {},
   "source": [
    "### Warren County"
   ]
  },
  {
   "cell_type": "code",
   "execution_count": 37,
   "metadata": {},
   "outputs": [],
   "source": [
    "#Copy df\n",
    "wa_deer_pop_df=deer_pop_df.copy()"
   ]
  },
  {
   "cell_type": "code",
   "execution_count": 38,
   "metadata": {},
   "outputs": [],
   "source": [
    "#Replace default value to average sq mile value for 2019\n",
    "wa_deer_pop_df=wa_deer_pop_df.replace(to_replace = 107, value =224)"
   ]
  },
  {
   "cell_type": "code",
   "execution_count": 39,
   "metadata": {},
   "outputs": [
    {
     "data": {
      "text/html": [
       "<div>\n",
       "<style scoped>\n",
       "    .dataframe tbody tr th:only-of-type {\n",
       "        vertical-align: middle;\n",
       "    }\n",
       "\n",
       "    .dataframe tbody tr th {\n",
       "        vertical-align: top;\n",
       "    }\n",
       "\n",
       "    .dataframe thead th {\n",
       "        text-align: right;\n",
       "    }\n",
       "</style>\n",
       "<table border=\"1\" class=\"dataframe\">\n",
       "  <thead>\n",
       "    <tr style=\"text-align: right;\">\n",
       "      <th></th>\n",
       "      <th>Year</th>\n",
       "      <th>Deer SM</th>\n",
       "    </tr>\n",
       "  </thead>\n",
       "  <tbody>\n",
       "    <tr>\n",
       "      <th>0</th>\n",
       "      <td>1972</td>\n",
       "      <td>10</td>\n",
       "    </tr>\n",
       "    <tr>\n",
       "      <th>1</th>\n",
       "      <td>1987</td>\n",
       "      <td>20</td>\n",
       "    </tr>\n",
       "    <tr>\n",
       "      <th>2</th>\n",
       "      <td>1998</td>\n",
       "      <td>30</td>\n",
       "    </tr>\n",
       "    <tr>\n",
       "      <th>3</th>\n",
       "      <td>2019</td>\n",
       "      <td>224</td>\n",
       "    </tr>\n",
       "  </tbody>\n",
       "</table>\n",
       "</div>"
      ],
      "text/plain": [
       "   Year  Deer SM\n",
       "0  1972       10\n",
       "1  1987       20\n",
       "2  1998       30\n",
       "3  2019      224"
      ]
     },
     "execution_count": 39,
     "metadata": {},
     "output_type": "execute_result"
    }
   ],
   "source": [
    "#Display data\n",
    "wa_deer_pop_df"
   ]
  },
  {
   "cell_type": "code",
   "execution_count": 40,
   "metadata": {},
   "outputs": [],
   "source": [
    "#Get x and y values for regression line\n",
    "wa_xs =wa_deer_pop_df[\"Year\"]\n",
    "wa_ys = wa_deer_pop_df[\"Deer SM\"]"
   ]
  },
  {
   "cell_type": "code",
   "execution_count": 41,
   "metadata": {},
   "outputs": [
    {
     "data": {
      "text/plain": [
       "[-29.442930153321868,\n",
       " 39.040885860305934,\n",
       " 89.26235093696778,\n",
       " 185.13969335604634]"
      ]
     },
     "execution_count": 41,
     "metadata": {},
     "output_type": "execute_result"
    }
   ],
   "source": [
    "#Get regression line\n",
    "m, b = best_fit_slope_and_intercept(wa_xs,wa_ys)\n",
    "regression_line = [(m*x)+b for x in wa_xs]\n",
    "regression_line"
   ]
  },
  {
   "cell_type": "code",
   "execution_count": 42,
   "metadata": {},
   "outputs": [
    {
     "name": "stdout",
     "output_type": "stream",
     "text": [
      "180.57410562180485\n"
     ]
    }
   ],
   "source": [
    "#Get the predicted deer count for 2018\n",
    "wa_predict_x = 2018\n",
    "wa_predict_y = (m*wa_predict_x)+b\n",
    "wa_pop=wa_predict_y\n",
    "print(wa_pop)"
   ]
  },
  {
   "cell_type": "code",
   "execution_count": 43,
   "metadata": {},
   "outputs": [
    {
     "name": "stdout",
     "output_type": "stream",
     "text": [
      "154.69761499148171\n",
      "90.00638841567297\n",
      "60.324531516183924\n",
      "48.14735945485518\n",
      "83.15672913117533\n",
      "180.57410562180485\n"
     ]
    }
   ],
   "source": [
    "# Use predicted value of 2018 deer count deer per sq mile and populate table\n",
    "print(al_pop)\n",
    "print(cu_pop)\n",
    "print(mo_pop)\n",
    "print(pa_pop)\n",
    "print(so_pop)\n",
    "print(wa_pop)"
   ]
  },
  {
   "cell_type": "code",
   "execution_count": 44,
   "metadata": {},
   "outputs": [
    {
     "data": {
      "text/html": [
       "<div>\n",
       "<style scoped>\n",
       "    .dataframe tbody tr th:only-of-type {\n",
       "        vertical-align: middle;\n",
       "    }\n",
       "\n",
       "    .dataframe tbody tr th {\n",
       "        vertical-align: top;\n",
       "    }\n",
       "\n",
       "    .dataframe thead th {\n",
       "        text-align: right;\n",
       "    }\n",
       "</style>\n",
       "<table border=\"1\" class=\"dataframe\">\n",
       "  <thead>\n",
       "    <tr style=\"text-align: right;\">\n",
       "      <th></th>\n",
       "      <th>County</th>\n",
       "      <th>Acres</th>\n",
       "      <th>Deer Max</th>\n",
       "      <th>Max SM</th>\n",
       "      <th>Deer min</th>\n",
       "      <th>Min SM</th>\n",
       "      <th>AvgCount</th>\n",
       "    </tr>\n",
       "  </thead>\n",
       "  <tbody>\n",
       "    <tr>\n",
       "      <th>0</th>\n",
       "      <td>Atlantic County</td>\n",
       "      <td>557</td>\n",
       "      <td>169</td>\n",
       "      <td>194</td>\n",
       "      <td>161</td>\n",
       "      <td>185</td>\n",
       "      <td>189.5</td>\n",
       "    </tr>\n",
       "    <tr>\n",
       "      <th>1</th>\n",
       "      <td>Cumberland County</td>\n",
       "      <td>1520</td>\n",
       "      <td>255</td>\n",
       "      <td>107</td>\n",
       "      <td>245</td>\n",
       "      <td>103</td>\n",
       "      <td>105.0</td>\n",
       "    </tr>\n",
       "    <tr>\n",
       "      <th>2</th>\n",
       "      <td>Hunterdon/Mercer County</td>\n",
       "      <td>1659</td>\n",
       "      <td>231</td>\n",
       "      <td>89</td>\n",
       "      <td>230</td>\n",
       "      <td>89</td>\n",
       "      <td>89.0</td>\n",
       "    </tr>\n",
       "    <tr>\n",
       "      <th>3</th>\n",
       "      <td>Monmouth County</td>\n",
       "      <td>3390</td>\n",
       "      <td>350</td>\n",
       "      <td>66</td>\n",
       "      <td>344</td>\n",
       "      <td>65</td>\n",
       "      <td>65.5</td>\n",
       "    </tr>\n",
       "    <tr>\n",
       "      <th>4</th>\n",
       "      <td>Passaic County</td>\n",
       "      <td>940</td>\n",
       "      <td>81</td>\n",
       "      <td>55</td>\n",
       "      <td>65</td>\n",
       "      <td>44</td>\n",
       "      <td>49.5</td>\n",
       "    </tr>\n",
       "    <tr>\n",
       "      <th>5</th>\n",
       "      <td>Somerset County</td>\n",
       "      <td>2834</td>\n",
       "      <td>446</td>\n",
       "      <td>101</td>\n",
       "      <td>402</td>\n",
       "      <td>91</td>\n",
       "      <td>96.0</td>\n",
       "    </tr>\n",
       "    <tr>\n",
       "      <th>6</th>\n",
       "      <td>Warren County</td>\n",
       "      <td>1830</td>\n",
       "      <td>678</td>\n",
       "      <td>237</td>\n",
       "      <td>600</td>\n",
       "      <td>210</td>\n",
       "      <td>223.5</td>\n",
       "    </tr>\n",
       "    <tr>\n",
       "      <th>7</th>\n",
       "      <td>Totals</td>\n",
       "      <td>12730</td>\n",
       "      <td>2210</td>\n",
       "      <td>111</td>\n",
       "      <td>2047</td>\n",
       "      <td>103</td>\n",
       "      <td>107.0</td>\n",
       "    </tr>\n",
       "  </tbody>\n",
       "</table>\n",
       "</div>"
      ],
      "text/plain": [
       "                    County  Acres  Deer Max   Max SM  Deer min  Min SM  \\\n",
       "0          Atlantic County    557        169     194       161     185   \n",
       "1        Cumberland County   1520        255     107       245     103   \n",
       "2  Hunterdon/Mercer County   1659        231      89       230      89   \n",
       "3          Monmouth County   3390        350      66       344      65   \n",
       "4           Passaic County    940         81      55        65      44   \n",
       "5          Somerset County   2834        446     101       402      91   \n",
       "6            Warren County   1830        678     237       600     210   \n",
       "7                   Totals  12730       2210     111      2047     103   \n",
       "\n",
       "   AvgCount  \n",
       "0     189.5  \n",
       "1     105.0  \n",
       "2      89.0  \n",
       "3      65.5  \n",
       "4      49.5  \n",
       "5      96.0  \n",
       "6     223.5  \n",
       "7     107.0  "
      ]
     },
     "execution_count": 44,
     "metadata": {},
     "output_type": "execute_result"
    }
   ],
   "source": [
    "#Display data\n",
    "deer_county_df"
   ]
  },
  {
   "cell_type": "code",
   "execution_count": 45,
   "metadata": {},
   "outputs": [
    {
     "data": {
      "text/html": [
       "<div>\n",
       "<style scoped>\n",
       "    .dataframe tbody tr th:only-of-type {\n",
       "        vertical-align: middle;\n",
       "    }\n",
       "\n",
       "    .dataframe tbody tr th {\n",
       "        vertical-align: top;\n",
       "    }\n",
       "\n",
       "    .dataframe thead th {\n",
       "        text-align: right;\n",
       "    }\n",
       "</style>\n",
       "<table border=\"1\" class=\"dataframe\">\n",
       "  <thead>\n",
       "    <tr style=\"text-align: right;\">\n",
       "      <th></th>\n",
       "      <th>County</th>\n",
       "      <th>Acres</th>\n",
       "      <th>Deer Max</th>\n",
       "      <th>Max SM</th>\n",
       "      <th>Deer min</th>\n",
       "      <th>Min SM</th>\n",
       "      <th>AvgCount</th>\n",
       "    </tr>\n",
       "  </thead>\n",
       "  <tbody>\n",
       "    <tr>\n",
       "      <th>0</th>\n",
       "      <td>Atlantic County</td>\n",
       "      <td>557</td>\n",
       "      <td>169</td>\n",
       "      <td>194</td>\n",
       "      <td>161</td>\n",
       "      <td>185</td>\n",
       "      <td>189.5</td>\n",
       "    </tr>\n",
       "    <tr>\n",
       "      <th>1</th>\n",
       "      <td>Cumberland County</td>\n",
       "      <td>1520</td>\n",
       "      <td>255</td>\n",
       "      <td>107</td>\n",
       "      <td>245</td>\n",
       "      <td>103</td>\n",
       "      <td>105.0</td>\n",
       "    </tr>\n",
       "    <tr>\n",
       "      <th>3</th>\n",
       "      <td>Monmouth County</td>\n",
       "      <td>3390</td>\n",
       "      <td>350</td>\n",
       "      <td>66</td>\n",
       "      <td>344</td>\n",
       "      <td>65</td>\n",
       "      <td>65.5</td>\n",
       "    </tr>\n",
       "    <tr>\n",
       "      <th>4</th>\n",
       "      <td>Passaic County</td>\n",
       "      <td>940</td>\n",
       "      <td>81</td>\n",
       "      <td>55</td>\n",
       "      <td>65</td>\n",
       "      <td>44</td>\n",
       "      <td>49.5</td>\n",
       "    </tr>\n",
       "    <tr>\n",
       "      <th>5</th>\n",
       "      <td>Somerset County</td>\n",
       "      <td>2834</td>\n",
       "      <td>446</td>\n",
       "      <td>101</td>\n",
       "      <td>402</td>\n",
       "      <td>91</td>\n",
       "      <td>96.0</td>\n",
       "    </tr>\n",
       "    <tr>\n",
       "      <th>6</th>\n",
       "      <td>Warren County</td>\n",
       "      <td>1830</td>\n",
       "      <td>678</td>\n",
       "      <td>237</td>\n",
       "      <td>600</td>\n",
       "      <td>210</td>\n",
       "      <td>223.5</td>\n",
       "    </tr>\n",
       "  </tbody>\n",
       "</table>\n",
       "</div>"
      ],
      "text/plain": [
       "              County  Acres  Deer Max   Max SM  Deer min  Min SM  AvgCount\n",
       "0    Atlantic County    557        169     194       161     185     189.5\n",
       "1  Cumberland County   1520        255     107       245     103     105.0\n",
       "3    Monmouth County   3390        350      66       344      65      65.5\n",
       "4     Passaic County    940         81      55        65      44      49.5\n",
       "5    Somerset County   2834        446     101       402      91      96.0\n",
       "6      Warren County   1830        678     237       600     210     223.5"
      ]
     },
     "execution_count": 45,
     "metadata": {},
     "output_type": "execute_result"
    }
   ],
   "source": [
    "#Filter Hudson/Mercer county and total rows\n",
    "deer_county_df= deer_county_df[(deer_county_df[\"County\"]!=\"Hunterdon/Mercer County\")]\n",
    "deer_county_df= deer_county_df[(deer_county_df[\"County\"]!=\"Totals\")]\n",
    "deer_county_df.head(10)"
   ]
  },
  {
   "cell_type": "code",
   "execution_count": 46,
   "metadata": {},
   "outputs": [],
   "source": [
    "#Add 2018 values to table"
   ]
  },
  {
   "cell_type": "code",
   "execution_count": 47,
   "metadata": {},
   "outputs": [],
   "source": [
    "#Build deer count list and round the value\n",
    "deer_2018_count=[round(al_pop,0),round(cu_pop,0),round(mo_pop,0),round(pa_pop,0),round(so_pop,0),round(wa_pop,0)]"
   ]
  },
  {
   "cell_type": "code",
   "execution_count": 48,
   "metadata": {},
   "outputs": [
    {
     "data": {
      "text/plain": [
       "[155.0, 90.0, 60.0, 48.0, 83.0, 181.0]"
      ]
     },
     "execution_count": 48,
     "metadata": {},
     "output_type": "execute_result"
    }
   ],
   "source": [
    "#Display data\n",
    "deer_2018_count"
   ]
  },
  {
   "cell_type": "code",
   "execution_count": 49,
   "metadata": {},
   "outputs": [],
   "source": [
    "#Append df column\n",
    "deer_county_df[\"2018_deerCount\"]=deer_2018_count"
   ]
  },
  {
   "cell_type": "code",
   "execution_count": 50,
   "metadata": {},
   "outputs": [
    {
     "data": {
      "text/html": [
       "<div>\n",
       "<style scoped>\n",
       "    .dataframe tbody tr th:only-of-type {\n",
       "        vertical-align: middle;\n",
       "    }\n",
       "\n",
       "    .dataframe tbody tr th {\n",
       "        vertical-align: top;\n",
       "    }\n",
       "\n",
       "    .dataframe thead th {\n",
       "        text-align: right;\n",
       "    }\n",
       "</style>\n",
       "<table border=\"1\" class=\"dataframe\">\n",
       "  <thead>\n",
       "    <tr style=\"text-align: right;\">\n",
       "      <th></th>\n",
       "      <th>County</th>\n",
       "      <th>Acres</th>\n",
       "      <th>Deer Max</th>\n",
       "      <th>Max SM</th>\n",
       "      <th>Deer min</th>\n",
       "      <th>Min SM</th>\n",
       "      <th>AvgCount</th>\n",
       "      <th>2018_deerCount</th>\n",
       "    </tr>\n",
       "  </thead>\n",
       "  <tbody>\n",
       "    <tr>\n",
       "      <th>0</th>\n",
       "      <td>Atlantic County</td>\n",
       "      <td>557</td>\n",
       "      <td>169</td>\n",
       "      <td>194</td>\n",
       "      <td>161</td>\n",
       "      <td>185</td>\n",
       "      <td>189.5</td>\n",
       "      <td>155.0</td>\n",
       "    </tr>\n",
       "    <tr>\n",
       "      <th>1</th>\n",
       "      <td>Cumberland County</td>\n",
       "      <td>1520</td>\n",
       "      <td>255</td>\n",
       "      <td>107</td>\n",
       "      <td>245</td>\n",
       "      <td>103</td>\n",
       "      <td>105.0</td>\n",
       "      <td>90.0</td>\n",
       "    </tr>\n",
       "    <tr>\n",
       "      <th>3</th>\n",
       "      <td>Monmouth County</td>\n",
       "      <td>3390</td>\n",
       "      <td>350</td>\n",
       "      <td>66</td>\n",
       "      <td>344</td>\n",
       "      <td>65</td>\n",
       "      <td>65.5</td>\n",
       "      <td>60.0</td>\n",
       "    </tr>\n",
       "    <tr>\n",
       "      <th>4</th>\n",
       "      <td>Passaic County</td>\n",
       "      <td>940</td>\n",
       "      <td>81</td>\n",
       "      <td>55</td>\n",
       "      <td>65</td>\n",
       "      <td>44</td>\n",
       "      <td>49.5</td>\n",
       "      <td>48.0</td>\n",
       "    </tr>\n",
       "    <tr>\n",
       "      <th>5</th>\n",
       "      <td>Somerset County</td>\n",
       "      <td>2834</td>\n",
       "      <td>446</td>\n",
       "      <td>101</td>\n",
       "      <td>402</td>\n",
       "      <td>91</td>\n",
       "      <td>96.0</td>\n",
       "      <td>83.0</td>\n",
       "    </tr>\n",
       "  </tbody>\n",
       "</table>\n",
       "</div>"
      ],
      "text/plain": [
       "              County  Acres  Deer Max   Max SM  Deer min  Min SM  AvgCount  \\\n",
       "0    Atlantic County    557        169     194       161     185     189.5   \n",
       "1  Cumberland County   1520        255     107       245     103     105.0   \n",
       "3    Monmouth County   3390        350      66       344      65      65.5   \n",
       "4     Passaic County    940         81      55        65      44      49.5   \n",
       "5    Somerset County   2834        446     101       402      91      96.0   \n",
       "\n",
       "   2018_deerCount  \n",
       "0           155.0  \n",
       "1            90.0  \n",
       "3            60.0  \n",
       "4            48.0  \n",
       "5            83.0  "
      ]
     },
     "execution_count": 50,
     "metadata": {},
     "output_type": "execute_result"
    }
   ],
   "source": [
    "#Display data\n",
    "deer_county_df.head()"
   ]
  },
  {
   "cell_type": "code",
   "execution_count": 51,
   "metadata": {},
   "outputs": [],
   "source": [
    "#Export data to csv file\n",
    "deer_county_df.to_csv(deer_population_2018,index=False)"
   ]
  },
  {
   "cell_type": "code",
   "execution_count": null,
   "metadata": {},
   "outputs": [],
   "source": []
  }
 ],
 "metadata": {
  "kernelspec": {
   "display_name": "Python 3",
   "language": "python",
   "name": "python3"
  },
  "language_info": {
   "codemirror_mode": {
    "name": "ipython",
    "version": 3
   },
   "file_extension": ".py",
   "mimetype": "text/x-python",
   "name": "python",
   "nbconvert_exporter": "python",
   "pygments_lexer": "ipython3",
   "version": "3.7.6"
  }
 },
 "nbformat": 4,
 "nbformat_minor": 4
}
