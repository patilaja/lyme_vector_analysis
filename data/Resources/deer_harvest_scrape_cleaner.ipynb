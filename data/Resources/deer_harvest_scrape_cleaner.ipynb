{
 "cells": [
  {
   "cell_type": "markdown",
   "metadata": {},
   "source": [
    "This data pertains only to the 2018-2019 hunting season."
   ]
  },
  {
   "cell_type": "code",
   "execution_count": 1,
   "metadata": {},
   "outputs": [],
   "source": [
    "# Dependencies\n",
    "from splinter import Browser\n",
    "from bs4 import BeautifulSoup\n",
    "import time\n",
    "import pandas as pd"
   ]
  },
  {
   "cell_type": "code",
   "execution_count": 2,
   "metadata": {},
   "outputs": [],
   "source": [
    "# setups up chromedriver and the browser control\n",
    "executable_path = {'executable_path': 'chromedriver.exe'}\n",
    "browser = Browser('chrome', **executable_path, headless=False)"
   ]
  },
  {
   "cell_type": "code",
   "execution_count": 3,
   "metadata": {},
   "outputs": [],
   "source": [
    "# URL of page to be scraped\n",
    "url = \"http://www.eregulations.com/newjersey/hunting/2018-19-deer-harvest-summaries/\"\n",
    "\n",
    "# sets browser to visit the url and then wait to ensure all of the page loads\n",
    "browser.visit(url)\n",
    "time.sleep(5)\n",
    "\n",
    "# builds soup object for data scraping\n",
    "html = browser.html\n",
    "soup = BeautifulSoup(html, \"html.parser\")"
   ]
  },
  {
   "cell_type": "code",
   "execution_count": 9,
   "metadata": {},
   "outputs": [],
   "source": [
    "# pulls in table from the soup object\n",
    "table = soup.find_all(\"table\", class_=\"New-Tables\")\n",
    "# converts the table into pandas dataframe\n",
    "hunt_df = pd.read_html(str(table))[0]\n",
    "# drops row populated by table title\n",
    "hunt_df = hunt_df.drop([0])\n",
    "# moves row with table headers into column headers\n",
    "hunt_df.columns = hunt_df.iloc[0]\n",
    "hunt_df = hunt_df.drop([1])\n",
    "# drop totals row\n",
    "hunt_df = hunt_df.drop([62])\n",
    "# drop unneeded harvest breakdown by permit type\n",
    "del hunt_df[\"Fall Bow\"]\n",
    "del hunt_df[\"Permit Bow\"]\n",
    "del hunt_df[\"Six-day Firearm\"]\n",
    "del hunt_df[\"Permit Muzzleloader\"]\n",
    "del hunt_df[\"Permit Shotgun\"]\n",
    "del hunt_df[\"Winter Bow\"]\n",
    "del hunt_df[\"Youth Days\"]\n",
    "# convert DMZ and harvest into int64\n",
    "hunt_df[\"DMZ\"] = hunt_df[\"DMZ\"].astype(\"int64\")\n",
    "hunt_df[\"Total Harvest\"] = hunt_df[\"Total Harvest\"].astype(\"int64\")"
   ]
  },
  {
   "cell_type": "code",
   "execution_count": 10,
   "metadata": {},
   "outputs": [],
   "source": [
    "# assign each DMZ to a county\n",
    "# read in ref csv\n",
    "dmz_county = \"../CDC_input/dmz_county.csv\"\n",
    "# convert to pandas dataframe\n",
    "ref_df = pd.read_csv(dmz_county)\n",
    "# converts DMZ column into int64 for later merge\n",
    "ref_df[\"DMZ\"] = ref_df[\"DMZ\"].astype(\"int64\")\n",
    "# merge county data into primary dataframe\n",
    "hunt_df = hunt_df.merge(ref_df, on=\"DMZ\")"
   ]
  },
  {
   "cell_type": "code",
   "execution_count": 11,
   "metadata": {},
   "outputs": [
    {
     "data": {
      "text/html": [
       "<div>\n",
       "<style scoped>\n",
       "    .dataframe tbody tr th:only-of-type {\n",
       "        vertical-align: middle;\n",
       "    }\n",
       "\n",
       "    .dataframe tbody tr th {\n",
       "        vertical-align: top;\n",
       "    }\n",
       "\n",
       "    .dataframe thead th {\n",
       "        text-align: right;\n",
       "    }\n",
       "</style>\n",
       "<table border=\"1\" class=\"dataframe\">\n",
       "  <thead>\n",
       "    <tr style=\"text-align: right;\">\n",
       "      <th></th>\n",
       "      <th>dmz</th>\n",
       "      <th>county</th>\n",
       "      <th>total_harvest</th>\n",
       "    </tr>\n",
       "  </thead>\n",
       "  <tbody>\n",
       "    <tr>\n",
       "      <th>0</th>\n",
       "      <td>1</td>\n",
       "      <td>Sussex County</td>\n",
       "      <td>443</td>\n",
       "    </tr>\n",
       "    <tr>\n",
       "      <th>1</th>\n",
       "      <td>2</td>\n",
       "      <td>Sussex County</td>\n",
       "      <td>1596</td>\n",
       "    </tr>\n",
       "    <tr>\n",
       "      <th>2</th>\n",
       "      <td>3</td>\n",
       "      <td>Passaic County</td>\n",
       "      <td>360</td>\n",
       "    </tr>\n",
       "    <tr>\n",
       "      <th>3</th>\n",
       "      <td>4</td>\n",
       "      <td>Sussex County</td>\n",
       "      <td>393</td>\n",
       "    </tr>\n",
       "    <tr>\n",
       "      <th>4</th>\n",
       "      <td>5</td>\n",
       "      <td>Warren County</td>\n",
       "      <td>2444</td>\n",
       "    </tr>\n",
       "  </tbody>\n",
       "</table>\n",
       "</div>"
      ],
      "text/plain": [
       "   dmz          county  total_harvest\n",
       "0    1   Sussex County            443\n",
       "1    2   Sussex County           1596\n",
       "2    3  Passaic County            360\n",
       "3    4   Sussex County            393\n",
       "4    5   Warren County           2444"
      ]
     },
     "execution_count": 11,
     "metadata": {},
     "output_type": "execute_result"
    }
   ],
   "source": [
    "# rename and reorder columns\n",
    "hunt_df.columns = [\"dmz\",\"total_harvest\",\"county\"]\n",
    "hunt_df = hunt_df[list((\"dmz\",\"county\",\"total_harvest\"))]\n",
    "hunt_df.head()"
   ]
  },
  {
   "cell_type": "code",
   "execution_count": 13,
   "metadata": {},
   "outputs": [],
   "source": [
    "# export as csv\n",
    "hunt_df.to_csv(r\"../CDC_output/2018-19_deer_harvest.csv\")"
   ]
  },
  {
   "cell_type": "code",
   "execution_count": 12,
   "metadata": {},
   "outputs": [
    {
     "data": {
      "text/plain": [
       "dmz               int64\n",
       "county           object\n",
       "total_harvest     int64\n",
       "dtype: object"
      ]
     },
     "execution_count": 12,
     "metadata": {},
     "output_type": "execute_result"
    }
   ],
   "source": [
    "hunt_df.dtypes"
   ]
  }
 ],
 "metadata": {
  "kernelspec": {
   "display_name": "Python 3",
   "language": "python",
   "name": "python3"
  },
  "language_info": {
   "codemirror_mode": {
    "name": "ipython",
    "version": 3
   },
   "file_extension": ".py",
   "mimetype": "text/x-python",
   "name": "python",
   "nbconvert_exporter": "python",
   "pygments_lexer": "ipython3",
   "version": "3.6.10"
  }
 },
 "nbformat": 4,
 "nbformat_minor": 4
}
