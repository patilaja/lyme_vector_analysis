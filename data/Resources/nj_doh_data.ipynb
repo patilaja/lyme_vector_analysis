{
 "cells": [
  {
   "cell_type": "code",
   "execution_count": 1,
   "metadata": {},
   "outputs": [],
   "source": [
    "# Import libraries\n",
    "import pandas as pd\n"
   ]
  },
  {
   "cell_type": "code",
   "execution_count": 2,
   "metadata": {},
   "outputs": [
    {
     "name": "stderr",
     "output_type": "stream",
     "text": [
      "C:\\Users\\nickv\\Anaconda3\\envs\\PythonData2020\\lib\\site-packages\\pandas\\core\\frame.py:4133: SettingWithCopyWarning: \n",
      "A value is trying to be set on a copy of a slice from a DataFrame\n",
      "\n",
      "See the caveats in the documentation: https://pandas.pydata.org/pandas-docs/stable/user_guide/indexing.html#returning-a-view-versus-a-copy\n",
      "  errors=errors,\n"
     ]
    }
   ],
   "source": [
    "# Read html tables \n",
    "tables = pd.read_html(\"https://www-doh.state.nj.us/doh-shad/indicator/complete_profile/LymeDisease.html\")\n",
    "\n",
    "df_IncidentRate = tables[5]\n",
    "df_IncidentRate.drop(columns={\"Unnamed: 3\",\"Unnamed: 4\",\"Unnamed: 5\",\"Unnamed: 6\"}, inplace=True)\n",
    "df_IncidentRate = df_IncidentRate[:len(df_IncidentRate)-1]\n",
    "df_IncidentRate.rename(columns={'Year':'year', 'Cases per 100,000':'cases_per_100k', 'Numer- ator':'reported_cases'}, inplace=True)\n",
    "df_IncidentRate.to_csv('nj_doh_incident_rate.csv', index=False)"
   ]
  },
  {
   "cell_type": "code",
   "execution_count": 3,
   "metadata": {},
   "outputs": [],
   "source": [
    "df_Cases = tables[6]\n",
    "\n",
    "df_Cases.drop(columns={\"Unnamed: 3\",\"Unnamed: 4\",\"Unnamed: 5\",\"Unnamed: 6\"}, inplace=True)\n",
    "df_Cases = df_Cases[:len(df_Cases)-1]\n",
    "df_Cases.rename(columns={'Case Status':'case_status','Year':'year', 'Cases':'reported_cases'}, inplace=True)\n",
    "df_Cases.to_csv('nj_doh_case_status.csv', index=False)"
   ]
  },
  {
   "cell_type": "code",
   "execution_count": 4,
   "metadata": {},
   "outputs": [],
   "source": [
    "df_IncidentByCounty = tables[7]\n",
    "\n",
    "df_IncidentByCounty.drop(columns={\"Unnamed: 3\",\"Unnamed: 4\",\"Unnamed: 5\",\"Unnamed: 6\"}, inplace=True)\n",
    "df_IncidentByCounty = df_IncidentByCounty[:len(df_IncidentByCounty)-1]\n",
    "df_IncidentByCounty.rename(columns={'County':'county', 'Cases per 100,000':'cases_per_100k', 'Numer- ator':'reported_cases'}, inplace=True)\n",
    "df_IncidentByCounty.to_csv('nj_doh_incident_by_county_2018.csv', index=False)"
   ]
  },
  {
   "cell_type": "code",
   "execution_count": 5,
   "metadata": {},
   "outputs": [],
   "source": [
    "df_CasesByCounty = tables[8]\n",
    "\n",
    "df_CasesByCounty.drop(columns={\"Unnamed: 4\",\"Unnamed: 5\",\"Unnamed: 6\"}, inplace=True)\n",
    "df_CasesByCounty = df_CasesByCounty[:len(df_CasesByCounty)-1]\n",
    "df_CasesByCounty.rename(columns={'Year':'year', 'County':'county','Cases per 100,000':'cases_per_100k', 'Numer- ator':'reported_cases'}, inplace=True)\n",
    "df_CasesByCounty.to_csv('nj_doh_cases_by_county.csv', index=False)"
   ]
  },
  {
   "cell_type": "code",
   "execution_count": 6,
   "metadata": {},
   "outputs": [],
   "source": [
    "df_AgeGender = tables[9]\n",
    "\n",
    "df_AgeGender.drop(columns={\"Unnamed: 3\",\"Unnamed: 4\",\"Unnamed: 5\",\"Unnamed: 6\"}, inplace=True)\n",
    "df_AgeGender = df_AgeGender[:len(df_AgeGender)-1]\n",
    "df_AgeGender.rename(columns={'Sex':'sex', 'Age Group':'age_group', 'Cases':'reported_cases'}, inplace=True)\n",
    "df_AgeGender.to_csv('nj_doh_cases_by_age_gender.csv', index=False)"
   ]
  },
  {
   "cell_type": "code",
   "execution_count": 7,
   "metadata": {},
   "outputs": [],
   "source": [
    "df_MonthOfOnset = tables[10]\n",
    "\n",
    "df_MonthOfOnset.drop(columns={\"Unnamed: 2\",\"Unnamed: 3\",\"Unnamed: 4\",\"Unnamed: 5\",\"Unnamed: 6\"}, inplace=True)\n",
    "df_MonthOfOnset = df_MonthOfOnset[:len(df_MonthOfOnset)-1]\n",
    "df_MonthOfOnset.rename(columns={'Months of the Year':'month','Case Counts':'reported_cases'}, inplace=True)\n",
    "df_MonthOfOnset.to_csv('nj_doh_month_of_onset.csv', index=False)"
   ]
  },
  {
   "cell_type": "code",
   "execution_count": null,
   "metadata": {},
   "outputs": [],
   "source": []
  }
 ],
 "metadata": {
  "kernelspec": {
   "display_name": "Python 3",
   "language": "python",
   "name": "python3"
  },
  "language_info": {
   "codemirror_mode": {
    "name": "ipython",
    "version": 3
   },
   "file_extension": ".py",
   "mimetype": "text/x-python",
   "name": "python",
   "nbconvert_exporter": "python",
   "pygments_lexer": "ipython3",
   "version": "3.6.10"
  }
 },
 "nbformat": 4,
 "nbformat_minor": 4
}
